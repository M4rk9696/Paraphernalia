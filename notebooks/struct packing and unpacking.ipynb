{
 "cells": [
  {
   "cell_type": "code",
   "execution_count": 1,
   "id": "0ca465b2",
   "metadata": {},
   "outputs": [
    {
     "data": {
      "text/plain": [
       "b'\\x04\\x00\\x02\\x00'"
      ]
     },
     "execution_count": 1,
     "metadata": {},
     "output_type": "execute_result"
    }
   ],
   "source": [
    "from struct import pack, unpack\n",
    "\n",
    "# Lets pack as two 32 bit integer\n",
    "pack('<hh', 4, 2)"
   ]
  },
  {
   "cell_type": "markdown",
   "id": "9e50815c",
   "metadata": {},
   "source": [
    "## Packing data"
   ]
  },
  {
   "cell_type": "code",
   "execution_count": 2,
   "id": "06df91ec",
   "metadata": {},
   "outputs": [
    {
     "data": {
      "text/plain": [
       "b'\\x04\\x00\\x00\\x00\\x04\\x00\\x00\\x00'"
      ]
     },
     "execution_count": 2,
     "metadata": {},
     "output_type": "execute_result"
    }
   ],
   "source": [
    "pack('<ll', 4, 4) # Little endian"
   ]
  },
  {
   "cell_type": "code",
   "execution_count": 3,
   "id": "daac6395",
   "metadata": {},
   "outputs": [
    {
     "data": {
      "text/plain": [
       "b'\\x00\\x00\\x00\\x04\\x00\\x00\\x00\\x04'"
      ]
     },
     "execution_count": 3,
     "metadata": {},
     "output_type": "execute_result"
    }
   ],
   "source": [
    "pack('>ll', 4, 4) # Big endian"
   ]
  },
  {
   "cell_type": "markdown",
   "id": "a30de4c1",
   "metadata": {},
   "source": [
    "## Unpacking data"
   ]
  },
  {
   "cell_type": "code",
   "execution_count": 4,
   "id": "0a7ca6bb",
   "metadata": {},
   "outputs": [
    {
     "data": {
      "text/plain": [
       "(0, 1, 258996, 1, 1, 1, 32)"
      ]
     },
     "execution_count": 4,
     "metadata": {},
     "output_type": "execute_result"
    }
   ],
   "source": [
    "# Now let's try reading some data\n",
    "data_le = b'\\x00\\x00\\x00\\x00\\x01\\x00\\x00\\x00\\xb4\\xf3\\x03\\x00\\x01\\x00\\x00\\x00\\x01\\x00\\x00\\x00\\x01\\x00\\x00\\x00 \\x00\\x00\\x00'\n",
    "\n",
    "# data_little\n",
    "unpack('<lllllll', data_le)"
   ]
  },
  {
   "cell_type": "code",
   "execution_count": 5,
   "id": "895cfd15",
   "metadata": {},
   "outputs": [
    {
     "data": {
      "text/plain": [
       "(0, 1, 258996, 1, 1, 1, 32)"
      ]
     },
     "execution_count": 5,
     "metadata": {},
     "output_type": "execute_result"
    }
   ],
   "source": [
    "data_be = b'\\x00\\x00\\x00\\x00\\x00\\x00\\x00\\x01\\x00\\x03\\xf3\\xb4\\x00\\x00\\x00\\x01\\x00\\x00\\x00\\x01\\x00\\x00\\x00\\x01\\x00\\x00\\x00 '\n",
    "\n",
    "unpack('>lllllll', data_be)\n"
   ]
  }
 ],
 "metadata": {
  "kernelspec": {
   "display_name": "Python 3 (ipykernel)",
   "language": "python",
   "name": "python3"
  },
  "language_info": {
   "codemirror_mode": {
    "name": "ipython",
    "version": 3
   },
   "file_extension": ".py",
   "mimetype": "text/x-python",
   "name": "python",
   "nbconvert_exporter": "python",
   "pygments_lexer": "ipython3",
   "version": "3.8.10"
  }
 },
 "nbformat": 4,
 "nbformat_minor": 5
}
